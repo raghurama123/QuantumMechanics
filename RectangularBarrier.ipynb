{
 "cells": [
  {
   "cell_type": "markdown",
   "id": "68a3d188",
   "metadata": {},
   "source": [
    "## Numerical Calculation of Transmission coefficient for the rectangular barrier of height V$_0$ and width 2a"
   ]
  },
  {
   "cell_type": "markdown",
   "id": "b8f53cb6",
   "metadata": {},
   "source": [
    "### Load libraries"
   ]
  },
  {
   "cell_type": "code",
   "execution_count": 50,
   "id": "16953582",
   "metadata": {},
   "outputs": [],
   "source": [
    "import math, cmath\n",
    "import numpy as np\n",
    "from scipy import linalg\n",
    "import matplotlib.pyplot as plt\n",
    "from matplotlib import pyplot as plt\n",
    "from IPython.display import clear_output"
   ]
  },
  {
   "cell_type": "markdown",
   "id": "7c6dad31",
   "metadata": {},
   "source": [
    "### Enter conditions"
   ]
  },
  {
   "cell_type": "code",
   "execution_count": 55,
   "id": "adf1bcb9",
   "metadata": {},
   "outputs": [],
   "source": [
    "a    = 5 # barrier width is 2a, spanning from -a to +a\n",
    "V0   = 1 # barrier height is V0\n",
    "m    = 1 # mass of particles, mass of electron is 1 in atomic units\n",
    "hbar = 1 # in atomic units\n",
    "\n",
    "#=== Energy range\n",
    "E0=0.005                # lower bound for E\n",
    "Ef=10                   # upper bound for E\n",
    "dE=0.01                 # step of E\n",
    "NE=int((Ef-E0)/dE+1)    # number of steps"
   ]
  },
  {
   "cell_type": "markdown",
   "id": "10c5551f",
   "metadata": {},
   "source": [
    "### Solve scattering equations for various values of energy (E) of the particle beam"
   ]
  },
  {
   "cell_type": "code",
   "execution_count": 56,
   "id": "47bc9a7e",
   "metadata": {},
   "outputs": [],
   "source": [
    "# Energies and transmission coefficients to be stored\n",
    "E=np.zeros(NE)\n",
    "T=np.zeros(NE)"
   ]
  },
  {
   "cell_type": "code",
   "execution_count": 57,
   "id": "2d3a87a5",
   "metadata": {},
   "outputs": [],
   "source": [
    "for iE in range(NE):\n",
    "    \n",
    "    E[iE]=E0+iE*dE\n",
    "    \n",
    "    k1 = cmath.sqrt(2*m*E[iE])/hbar\n",
    "    k2 = cmath.sqrt(2*m*(E[iE]-V0))/hbar\n",
    "\n",
    "    #=== Scattering matrix\n",
    "    A=np.zeros((4,4))\n",
    "    A = [\n",
    "    [ -np.exp(1j*k1*a), np.exp(-1j*k2*a),         np.exp(1j*k2*a),           0               ],\n",
    "    [  np.exp(1j*k1*a), (k2/k1)*np.exp(-1j*k2*a), (-k2/k1)*np.exp(1j*k2*a),  0               ], \n",
    "    [  0,               np.exp(1j*k2*a),          np.exp(-1j*k2*a),         -np.exp(1j*k1*a) ], \n",
    "    [  0,               (k2/k1)*np.exp(1j*k2*a),  (-k2/k1)*np.exp(-1j*k2*a),-np.exp(1j*k1*a) ]\n",
    "    ]\n",
    "\n",
    "    #=== Find inverse\n",
    "    Ainv = np.linalg.pinv(A)\n",
    "\n",
    "    #=== RHS\n",
    "    b=np.zeros(4)\n",
    "    b = [np.exp(-1j*k1*a),np.exp(-1j*k1*a),0,0 ]\n",
    "\n",
    "    #=== Find left hand side as inv(A)*b\n",
    "    x=np.dot(Ainv,b)\n",
    "    #x = [B/A, C/A, D/A, F/A]\n",
    "\n",
    "    #=== F/A is the fourth element of x\n",
    "    F_A = x[3]\n",
    "    \n",
    "    T[iE] = np.real(F_A)**2 + np.imag(F_A)**2\n",
    "    #print(iE,E[iE],T[iE])"
   ]
  },
  {
   "cell_type": "code",
   "execution_count": 58,
   "id": "41226f42",
   "metadata": {},
   "outputs": [
    {
     "data": {
      "image/png": "[encoded data removed]",
      "text/plain": [
       "<Figure size 576x432 with 1 Axes>"
      ]
     },
     "metadata": {
      "needs_background": "light"
     },
     "output_type": "display_data"
    }
   ],
   "source": [
    "clear_output(wait=True)\n",
    "plt.rcParams['figure.figsize'] = (8,6)\n",
    "fig, ax = plt.subplots()\n",
    "plt.title('Transmission coefficient as a function of energy')\n",
    "\n",
    "#plt.grid(True)\n",
    "\n",
    "plt.xlim(0,10)\n",
    "plt.ylim(0,1.1)\n",
    "\n",
    "plt.xlabel('$E$')\n",
    "plt.ylabel('$T$($E$)')\n",
    "\n",
    "x = [1,1]\n",
    "y = [0,1.1]\n",
    "plt.plot(x,y, color='k', linestyle='--',linewidth=1) \n",
    "        \n",
    "\n",
    "x = [0,10]\n",
    "y = [1,1]\n",
    "plt.plot(x,y, color='k', linestyle='--',linewidth=1) \n",
    "    \n",
    "plt.plot(E, T, color='yellowgreen', linestyle='-',linewidth=2) \n",
    "plt.savefig('rectangular_step.png')\n",
    "plt.show()"
   ]
  }
 ],
 "metadata": {
  "kernelspec": {
   "display_name": "Python 3",
   "language": "python",
   "name": "python3"
  },
  "language_info": {
   "codemirror_mode": {
    "name": "ipython",
    "version": 3
   },
   "file_extension": ".py",
   "mimetype": "text/x-python",
   "name": "python",
   "nbconvert_exporter": "python",
   "pygments_lexer": "ipython3",
   "version": "3.9.4"
  }
 },
 "nbformat": 4,
 "nbformat_minor": 5
}
